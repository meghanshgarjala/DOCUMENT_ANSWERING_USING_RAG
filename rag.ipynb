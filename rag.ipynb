{
 "cells": [
  {
   "cell_type": "code",
   "execution_count": 1,
   "metadata": {},
   "outputs": [],
   "source": [
    "from langchain_community.document_loaders import PyPDFLoader"
   ]
  },
  {
   "cell_type": "code",
   "execution_count": 2,
   "metadata": {},
   "outputs": [],
   "source": [
    "loader=PyPDFLoader('class8science.pdf')\n",
    "data=loader.load()"
   ]
  },
  {
   "cell_type": "code",
   "execution_count": 3,
   "metadata": {},
   "outputs": [
    {
     "data": {
      "text/plain": [
       "[Document(metadata={'source': 'class8science.pdf', 'page': 0}, page_content='SOUNDSOUND\\nH\\now do you come to know that a\\n‘period’ is over in your school?\\nYou come to know easily that\\nsomeone is at your door when he knocks\\nor you hear the sound of the doorbell.\\nMost of the time you can make out that\\nsomeone is approaching you by just\\nhearing the foot steps.\\nYou might have played a game called\\nhide and seek. In this game a person is\\nblind-folded and has to catch the\\nremaining players. How is the blind-\\nfolded person able to guess which player\\nis closest to her?\\nSound plays an important role in our\\nlives. It helps us to communicate with\\none another. We hear a variety of sounds\\nin our surroundings.\\nMake a list of sounds you hear in\\nyour surroundings.\\nIn the music room of your school you\\nhear the sounds  produced by musical\\ninstruments like flute, \\ntabla ,\\nharmonium, etc. (Fig. 10.1).\\nHow is sound produced? How does it\\ntravel from one place to another ? How\\ndo we hear sound? Why are some sounds\\nlouder than others? We shall discuss\\nsuch questions in this chapter.\\nFig. 10.1 : Some musical instruments\\nTabla\\nHarmonium\\nSitar\\nFlute\\n2024-25\\n'),\n",
       " Document(metadata={'source': 'class8science.pdf', 'page': 1}, page_content='SCIENCE124\\n10.1 Sound is Produced by a\\nVibrating Body\\nTouch the school bell when not in use.\\nWhat do you feel? Again touch it when\\nproducing sound. Can you feel it\\nvibrating?\\nActivity 10.1\\nTake a metal plate (or a pan). Hang\\nit at a convenient place in such a\\nway that it does not touch any wall.\\nNow strike it with a stick (Fig.10.2).\\nDo you hear a sound? Touch the\\nplate or pan gently with your finger.\\nDo you feel the vibrations?\\nFig. 10.2 : Striking a pan\\nAgain strike the plate with the stick\\nand hold it tightly with your hands\\nimmediately after striking. Do you\\nstill hear the sound?  Touch the\\nplate after it stops producing sound.\\nCan you feel the vibrations now?\\nAs you learnt in Class VII the to and\\nfro or back and forth motion of an\\nobject is called vibration . When a\\ntightly stretched band is plucked, it\\nvibrates and produces sound. When it\\nstops vibrating, it does not produce\\nany sound.\\nActivity 10.3\\nTake a metal dish. Pour water in it.\\nStrike it at its edge with a spoon\\n(Fig. 13.4). Do you hear a sound?\\nAgain strike the dish and then\\ntouch it. Can you feel the dish\\nvibrating? Strike the dish again.\\nLook at the surface of water. Do you\\nsee any waves there? Now hold the\\ndish. What change do you observe\\non the surface of water? Can you\\nexplain the change? Is there a hint\\nto connect sound with the\\nvibrations of a body?\\nActivity 10.2\\nTake a rubber band. Put it around\\nthe longer side of a pencil box\\n(Fig. 10.3). Insert two pencils\\nbetween the box and the stretched\\nrubber. Now, pluck the rubber band\\nsomewhere in the middle. Do you\\nhear any sound? Does the band\\nvibrate?\\nFig. 10.3 : Plucking the rubber band\\n2024-25\\n'),\n",
       " Document(metadata={'source': 'class8science.pdf', 'page': 2}, page_content='SOUND 125\\nWe see that a vibrating object\\nproduces sound. In some cases, the\\nvibrations are easily visible to us. But\\nin most cases, their amplitude is so small\\nthat we cannot see them. However, we\\ncan feel them.\\nActivity 10.4\\nTake a hollow coconut shell and\\nmake a musical instrument ektara.\\nYou can also make it with the help\\nof an earthen pot (Fig. 10.5). Play\\nthis instrument and identify its\\nvibrating part.\\nTable 10.1 : Musical Instruments and\\ntheir Vibrating Parts\\nS.No. Musical Vibrating Part\\nInstrument Producing Sound\\n1. Veena Stretched string\\n2. Tabla Stretched\\nmembrane\\n3.\\n4.\\n5.\\n6.\\n7.\\nMany of you might have seen the\\nmanjira (cymbals), the ghatam, and the\\nnoot  (mudpots) and the kartal. These\\nmusical instruments are commonly\\nused in many parts of our country. These\\ninstruments are simply beaten or struck\\n(Fig. 10.6). Can you name a few other\\nmusical instruments of this type?\\nYou too can make a musical\\ninstrument.\\nFig. 10.4 : Vibrating dish produces waves\\nin water\\nFig. 10.6 : A few more musical instruments\\nGhatam\\nMake a list of familiar musical\\ninstruments and identify their vibrating\\nparts. A few examples are given in\\nTable 10.1. Complete rest of the Table.\\nFig. 10.5 : Ektara\\nManjira\\n2024-25\\n'),\n",
       " Document(metadata={'source': 'class8science.pdf', 'page': 3}, page_content='SCIENCE126\\n10.2 Sound Produced by\\nHumans\\nSpeak loudly for a while or sing a song,\\nor buzz like a bee. Put your hand on\\nyour throat as shown in Fig. 10.8. Do\\nyou feel any vibrations?\\nIn humans, the sound is produced\\nby the voice box or the larynx. Put your\\nfingers on the throat and find a hard\\nbump that seems to move when you\\nswallow. This part of the body is known\\nas the voice box. It is at the upper end\\nof the windpipe. Two vocal cords,\\n are\\nstretched across the voice box or larynx\\nin such a way that it leaves a narrow\\nslit between them for the passage of air\\n(Fig.10.8).\\nFig. 10.7 : Jaltrang\\nWhen we pluck the string of an\\ninstrument, like the sitar , the sound\\nthat we hear is not only that of the\\nstring. The whole instrument is forced\\nto vibrate, and it is the sound of the\\nvibration of the instrument that we\\nhear. Similarly, when we strike the\\nmembrane of a mridangam, the sound\\nthat we hear is not only that of the\\nmembrane but of the whole body of\\nthe instrument.\\nWhen we speak, does\\nany part of our body\\nvibrate?\\nFig.10.8 : Voice box in humans\\nWhen the lungs force air through the\\nslit, the vocal cords vibrate, producing\\nsound. Muscles attached to the vocal\\ncords can make the cords tight or loose.\\nWhen the vocal cords are tight and thin,\\nthe type or quality of voice is different\\nActivity 10.5\\nTake 6-8 bowls or tumblers. Fill\\nthem with water up to  different\\nlevels, increasing gradually from\\none end to the other. Now take\\na  pencil and strike the bowls gently.\\nStrike all of them in succession. You\\nwill hear pleasant sounds. This is\\nyour jaltrang (Fig.10.7).\\n2024-25\\n'),\n",
       " Document(metadata={'source': 'class8science.pdf', 'page': 4}, page_content='SOUND 127\\nfrom that when they are loose and\\nthick. Let us see how the vocal cords\\nfunction.\\nActivity 10.6\\nTake two rubber strips of the same\\nsize. Place these two pieces one\\nabove the other and stretch them\\ntight. Now blow air through the gap\\nbetween them [Fig. 10.9(a)]. As the\\nair blows through the stretched\\nrubber strips, a sound is produced.\\nYou can also take a piece of paper\\nwith a narrow slit and hold it\\nbetween your fingers as shown in\\nFig. 10.9 (b). Now blow through the\\nslit and listen to the sound. Our\\nvocal cords produce sound in a\\nsimilar manner.\\n(a)\\n(b)\\nFig. 10.9 (a), (b) : Working of vocal cords\\nThe vocal cords in men are about\\n20 mm long. In women these are about\\n15mm long. Children have very short\\nvocal cords. This is the reason why\\nthe voices of men, women and\\nchildren are different.\\n10.3 Sound Needs a Medium\\nfor Propagation\\nWhen you call up your friend who is\\nstanding at a distance, your friend is\\nable to hear your voice. How does the\\nsound propagate or  travel to her?\\nActivity 10.7\\nTake a metal  or glass tumbler. Make\\nsure that it is dry. Place a cell phone\\nin it. (Remember that the cell phone\\nmust not be kept in water.) Ask your\\nfriend to give a ring on this cell\\nphone from another cell phone.\\nListen to the ring carefully.\\nNow, surround the rim of the\\ntumbler with your hands\\n(Fig. 10.10). Put your mouth on the\\nFig. 10.10 : Sound needs a medium to travel\\n2024-25\\n'),\n",
       " Document(metadata={'source': 'class8science.pdf', 'page': 5}, page_content='SCIENCE128\\nPlace your ear gently on the water\\nsurface (Fig. 10.11). (Be careful : the\\nwater should not enter in your ear.)\\nCan you hear the sound of the bell?\\nDoes it indicate that sound can\\ntravel through liquids?\\nopening between your hands.\\nIndicate to your friend to give a ring\\nagain. Listen to the ring while\\nsucking air from the tumbler.\\nDoes the sound become fainter\\nas you suck air?\\nRemove the tumbler from your\\nmouth. Does the sound become\\nloud again?\\nCan you think of an explanation? Is\\nit possible that the decreasing amount\\nof air in the tumbler had something to\\ndo with decreasing loudness of the ring?\\nIndeed, if you had been able to suck\\nall the air in the tumbler , you will not\\nlisten any sound. Actually, sound needs\\na medium to travel. When air has been\\nremoved completely from a vessel, it is said\\nthat there is a vacuum in the vessel. The\\nsound  cannot travel through a vacuum.\\nDoes sound travel in liquids? Let us\\nfind out.\\nActivity 10.8\\nTake a bucket or a bathtub. Fill it\\nwith clean water. Take a small bell\\nin one hand. Shake this bell inside\\nthe water to produce sound. Make\\nsure that the bell does not touch\\nthe body of the bucket or the tub.\\nOh ! That is how whales\\nand dolphins might be\\ncommunicating under\\nwater.\\nFig. 10.11 : Sound travelling through water\\nFig. 10.12 : Sound travelling through a\\nmetre scale\\nCan you hear the sound of the\\nscratching? Ask your friends\\naround you if they were able to hear\\nthe same sound?\\nLet us find out if sound can travel\\nthrough solids also.\\nActivity 10.9\\nTake a metre scale or a long metal\\nrod and hold its one end to your\\near. Ask your friend to gently\\nscratch or tap at the other end of\\nthe scale (Fig. 10.12).\\n2024-25\\n'),\n",
       " Document(metadata={'source': 'class8science.pdf', 'page': 6}, page_content='SOUND 129\\nYou can also per for m the above\\nactivity by placing your ear at one end\\nof a long wooden or metallic table and\\nasking your friend to gently scratch the\\nother end of the table (Fig. 10.13).\\nFig. 10.13 : Sound can travel through solids\\nWe find that sound can travel\\nthrough wood or metal. In fact, sound\\ncan travel through any solid. Y ou can\\nperform inter esting activities to show\\nthat sound can also travel through\\nstrings. Have you ever made a toy\\ntelephone (Fig. 10.14). Can you say that\\nsound can travel through strings?\\nFig. 10.14 : A toy telephone\\nWe have learnt so far that vibrating\\nobjects produce sound and it is carried\\nin all directions in a medium. The\\nmedium could be a gas, a liquid or a\\nsolid. How do we hear it?\\nFig. 10.15 : Understanding action of an eardrum\\n10.4 We Hear Sound thr ough\\nOur Ears\\nThe shape of the outer part of the ear is\\nlike a funnel. When sound enters it, it\\ntravels down a canal at the end of which\\nthere is a thin stretched membrane. It\\nis called the eardrum. It per forms an\\nimportant function. To understand what\\nthe eardrum does, let us build a tin-can\\nmodel of the eardrum.\\nActivity 10.10\\nTake a plastic or tin-can. Cut its\\nends. Stretch a piece of rubber\\nballoon across one end of the can\\nand fasten it with a rubber band.\\nPut four or five grains of dry cereal\\non the stretched rubber. Now ask\\nyour friend to speak “Hurrey,\\nHurrey” from the open end\\n(Fig.10.15). Observe what  happens\\nto the grain. Why do the grains\\njump up and down?\\n2024-25\\n'),\n",
       " Document(metadata={'source': 'class8science.pdf', 'page': 7}, page_content='SCIENCE130\\nThe eardrum is like a stretched\\nrubber sheet. Sound vibrations make\\nthe eardrum vibrate (Fig. 10.16). The\\neardrum sends vibrations to the inner\\near. From there, the signal goes to the\\nbrain. That is how we hear.\\nYou have already learnt in earlier classes\\nabout the oscillatory motion and its\\ntime period.\\nThe number of oscillations  per\\nsecond is called the frequency  of\\noscillation. Frequency is expressed in\\nhertz. Its symbol is Hz. A frequency of\\n1 Hz is one oscillation per second. If an\\nobject oscillates 20 times in one second,\\nwhat would be its frequency?\\nYou can r ecognise many familiar\\nsounds without seeing the objects\\nproducing them. How is it possible?\\nThese sounds must be different to\\nenable you to recognise them. Have you\\never thought what factors make them\\ndifferent?  Amplitude and frequency are\\ntwo important properties of any sound.\\nCan we differentiate sounds on the basis\\nof their amplitudes and frequencies?\\nLoudness and Pitch\\nActivity 10.11\\nTake a metallic tumbler and a\\ntablespoon. Strike the tablespoon\\ngently at the brim of the tumbler.\\nFig. 10.16 : Human ear\\nFig. 10.17 :Thermocol ball touching the\\nvibrating glass tumbler\\nWe must NEVER put a sharp,\\npointed or hard thing into our\\near. It can damage the\\neardrum. The damaged\\neardrum can impair hearing.\\n10.5 Amplitude, Time Period\\nand Frequency of a\\nVibration\\nWe have learnt that the to and fro motion\\nof an object is known as vibration. This\\nmotion is also called oscillatory motion.\\nEardrum\\nInner ear\\n2024-25\\n'),\n",
       " Document(metadata={'source': 'class8science.pdf', 'page': 8}, page_content='SOUND 131\\nHear the sound produced. Now bang\\nthe spoon on the tumbler and hear\\nthe sound produced again. Is the\\nsound louder when the tumbler is\\nstruck hard?\\nNow suspend a small thermocol\\nball touching the rim of the tumbler\\n(Fig. 10.17). Vibrate the tumbler by\\nstriking it. See how far the ball is\\ndisplaced. The displacement of the\\nball is a measure of the amplitude\\nof vibration of the tumbler.\\nNow, strike the tumbler gently\\nand then a little har der. Compare\\nthe amplitudes of vibrations of the\\ntumbler in the two cases. In which\\ncase is the amplitude larger?\\nLoudness of sound is proportional to\\nthe square of the amplitude of the\\nvibration producing the sound. For\\nexample, if the amplitude becomes\\ntwice, the loudness increases by a\\nfactor of 4. The loudness is expressed\\nin a unit called decibel (dB). The\\nfollowing table gives some idea of the\\nloudness of sound coming from\\nvarious sources.\\nNormal breathing 10 dB\\nSoft whisper (at 5m) 30 dB\\nNormal conversation 60 dB\\nBusy traffic 70 dB\\nAverage factory 80 dB\\nAbove 80 dB the noise becomes\\nphysically painful.\\nI wonder why my voice\\nis different from that of\\nmy teacher .\\nCompare the sound of a baby with\\nthat of an adult. Is there any difference?\\nEven if two sounds are equally loud,\\nthey differ in some way. Let us see how.\\nFig. 10.18 : Frequency determines the\\npitch of a sound\\nThe loudness of sound depends on\\nits amplitude. When the amplitude of\\nvibration is large, the sound produced\\nis loud. When the amplitude is small,\\nthe sound produced is feeble.\\nThe frequency determines the\\nshrillness or pitch of a sound. If the\\nfrequency of vibration is higher we say\\nthat the sound is shrill and has a higher\\npitch. If the frequency of vibration is\\nlower, we say that the sound has a lower\\npitch. For example, a drum vibrates with\\na low frequency. Therefore, it produces\\n2024-25\\n'),\n",
       " Document(metadata={'source': 'class8science.pdf', 'page': 9}, page_content='SCIENCE132\\na low-pitched sound. On the other\\nhand, a whistle has a high frequency\\nand therefore, produces a sound of\\nhigher pitch (Fig. 10.18). A bird makes\\na high-pitched sound whereas a lion\\nmakes a low-pitched roar. However, the\\nroar of a lion is very loud while the\\nsound of the bird is quite feeble.\\nEvery day you hear the voices of\\nchildren and adults. Do you find any\\ndifference in their voices? Can you say\\nthat the frequency of the voice of a child\\nis higher than that of an adult?\\nUsually the voice of a woman has\\na higher  frequency than that of a\\nman.\\n10.6 Audible and Inaudible\\nSounds\\nWe know that we need a vibrating body\\nfor the production of sound. Can we\\nhear the sound of all vibrating bodies?\\nThe fact is that sounds of frequencies\\nless than about 20 vibrations per second\\n(20 Hz) cannot be detected by the  human\\near. Such sounds ar e called inaudible.\\nOn the higher side, sounds of  frequencies\\nhigher\\n than about 20,000 vibrations per\\nsecond (20 kHz) are also not audible to\\nthe  human ear. Thus, for human ear,\\nthe range of audible frequencies is\\nroughly from 20 to 20,000 Hz.\\nSome animals can hear sounds of\\nfrequencies higher than 20,000 Hz.\\nDogs have this ability. The police use\\nhigh frequency whistles which dogs can\\nhear but humans cannot.\\nThe ultrasound equipment, familiar\\nto us for investigating and tracking\\nmany medical problems, works at\\nfrequencies higher than 20,000 Hz.\\n10.7 Noise and Music\\nWe hear dif ferent types of sounds\\naround us. Is the sound always\\npleasing? Does a sound sometimes\\ncause discomfort to you? Some sounds\\nare pleasant to the ear , whereas some\\nare not.\\nSuppose construction work is going\\non in your neighbourhood. Are the\\nsounds coming from the construction\\nsite pleasing? Do you enjoy the sounds\\nproduced by horns of buses and trucks?\\nSuch unpleasant sounds are called\\nnoise. In a classroom, if all the students\\nspeak together, what would the sound\\nproduced be called?\\nOn the other hand you enjoy sounds\\nfrom musical instruments.  Musical\\nsound is one which is pleasing to the\\near. Sound pr\\noduced by a harmonium\\nis a musical sound. The string of a sitar\\nalso gives out a musical sound.  But, if\\na musical sound becomes too loud,\\nwould it remain melodious?\\n10.8 Noise Pollution\\nYou already know about air pollution.\\nPresence of unwanted gases and\\nparticles in air is called air pollution.\\nSimilarly, presence of excessive or\\nunwanted sounds in the environment\\nis called noise pollution. Can you list\\nsome sources of noise pollution? Major\\ncauses of noise pollution are sounds of\\nvehicles, explosions including bursting\\nof crackers, machines, loudspeakers etc.\\nWhat sources in the home may lead to\\nnoise? Television and transistor radio\\nat high volumes, some kitchen\\nappliances, desert coolers, air\\nconditioners, all contribute to noise\\npollution.\\n2024-25\\n'),\n",
       " Document(metadata={'source': 'class8science.pdf', 'page': 10}, page_content='SOUND 133\\nHearing Impairment\\nTotal hearing impairment, which is rare, is usually from birth itself. Partial\\ndisability is generally the result of a disease, injury or age. Children with\\nimpaired hearing need special care. By learning sign language, such children\\ncan communicate effectively. Because speech develops as the direct result of\\nhearing, a child with a hearing loss may have defective speech also.\\nTechnological devices for the hearing-impaired have made it possible for such\\npersons to improve their quality of life. Society can do much to  improve the\\nliving environment for the hearing-impaired and help them live normal lives.\\nWhat are the Harms of Noise\\nPollution?\\nDo you know that presence of excessive\\nnoise in the surroundings may cause\\nmany health related problems. Lack of\\nsleep, hypertension (high blood-\\npressure), anxiety and many more health\\ndisorders may be caused by noise\\npollution. A person who is exposed to a\\nloud sound continuously may get\\ntemporary or even permanent\\nimpairment of hearing.\\nMeasures to Limit Noise Pollution\\nTo control noise, we  must control the\\nsources of noise. How can this be\\nachieved? For this, silencing devices\\nmust be installed in air  craft engines,\\ntransport vehicles, industrial\\nmachines and home appliances.\\nHow can the noise pollution be\\ncontrolled in a residential area?\\nAll noisy operations must be\\nconducted away from any residential\\narea. Noise producing industries\\nshould be set up away from such\\nareas. Use of automobile horns\\nshould be minimis\\ned. TV and music\\nsystems should be run at low\\nvolumes. Trees must be planted along\\nthe roads and around buildings to\\ncut down on the sounds reaching the\\nresidents, thus reducing the harmful\\neffects of noise pollution.\\n2024-25\\n'),\n",
       " Document(metadata={'source': 'class8science.pdf', 'page': 11}, page_content='SCIENCE134\\n KEYWORDS KEYWORDS KEYWORDS KEYWORDS KEYWORDS\\nAMPLITUDE\\nEARDRUM\\nFREQUENCY\\nhertz (Hz)\\nLARYNX\\nLOUDNESS\\nNOISE\\nOSCILLATION\\nPITCH\\nTIME PERIOD\\nVIBRATION\\nVOICE BOX\\nWIND PIPE\\n WHAT YOU HAVE LEARNT WHAT YOU HAVE LEARNT WHAT YOU HAVE LEARNT WHAT YOU HAVE LEARNT WHAT YOU HAVE LEARNT\\nÜ Sound is produced by vibrating objects.\\nÜ In human beings, the vibration of the vocal\\ncords produces sound.\\nÜ Sound travels through a medium (gas, liquid\\nor solid). It cannot travel in vacuum.\\nÜ The eardrum senses the vibrations of sound,\\nIt sends the signals to the brain. This process\\nis called hearing.\\nÜ The number of oscillations or vibrations per\\nsecond is called the frequency of oscillation.\\nÜ The frequency is expressed in hertz (Hz)\\nÜ Larger the amplitude of vibration, the louder\\nis the sound.\\nÜ Higher the frequency of vibration, the higher\\nis the pitch, and shriller is the sound.\\nÜ Unpleasant sounds are called noise.\\nÜ Excessive or unwanted sounds lead to noise\\npollution. Noise pollution may pose health\\nproblems for human beings.\\nÜ Attempts should be made to minimise noise\\npollution.\\nÜ Plantation on the roadside and elsewhere can\\nreduce noise pollution.\\nExercises\\n1. Choose the correct answer.\\nSound can travel through\\n(a) gases only (b) solids only\\n(c) liquids only (d) solids, liquids and gases.\\n2. Voice of which of the following is likely to have minimum frequency?\\n(a) Baby girl (b) Baby boy\\n(c) A man (d) A woman\\n2024-25\\n'),\n",
       " Document(metadata={'source': 'class8science.pdf', 'page': 12}, page_content='SOUND 135\\n3. In the following statements, tick ‘T’ against those which are true, and ‘F’\\nagainst those which are false.\\n(a) Sound cannot travel in vacuum. (T/F)\\n(b) The number of oscillations per second of a vibrating object is called\\nits time period. (T/F)\\n(c) If the amplitude of vibration is large, sound is feeble. (T/F)\\n(d) For human ears, the audible range is 20 Hz to 20,000 Hz. (T/F)\\n(e) The lower the frequency of vibration, the higher is the pitch. (T/F)\\n(f) Unwanted or unpleasant sound is termed as music. (T/F)\\n(g) Noise pollution may cause partial hearing impairment. (T/F)\\n4. Fill in the blanks with suitable words.\\n(a) Time taken by an object to complete one oscillation is called\\n__________.\\n(b) Loudness is determined by the __________ of vibration.\\n(c) The unit of frequency is __________\\n(d) Unwanted sound is called __________ .\\n(e) Shrillness of a sound is determined by the __________ of vibration.\\n5. A pendulum oscillates 40 times in 4 seconds. Find its time period and\\nfrequency.\\n6. The sound from a mosquito is produced when it vibrates its wings at an\\naverage rate of 500 vibrations per second. What is the time period of the\\nvibration?\\n7. Identify the part which vibrates to produce sound in the following\\ninstruments.\\n(a)  Dholak (b)  Sitar (c)  Flute\\n8. What is the difference between noise and music? Can music become noise\\nsometimes?\\n9. List sources of noise pollution in your surroundings.\\n10. Explain in what way noise pollution is harmful to human.\\n11. Your par\\nents are going to buy a house. They have been offered one on the\\nroadside and another three lanes away from the roadside. Which house\\nwould  you suggest your parents should buy? Explain your answer.\\n12. Sketch larynx and explain its function in your own words.\\n13. Lightning and thunder take place in the sky at the same time and at the\\nsame distance from us. Lightning is seen earlier and thunder is heard\\nlater. Can you explain why?\\nE X E R C I S E S\\n2024-25\\n'),\n",
       " Document(metadata={'source': 'class8science.pdf', 'page': 13}, page_content='SCIENCE136\\nExtended Learning — Activities and Projects\\n1. Visit the music room of your school. You may also visit musicians\\nin your locality. Make a list of musical instruments. Note down the\\nparts of these instruments that vibrate to produce sound.\\n2. If you play a musical instrument, bring it to the class and\\ndemonstrate how you play it.\\n3. Prepare a list of famous Indian musicians and the instruments\\nthey play.\\n4. Take a long thread. Place your hands over your ears and get some\\none to place this thread round your head and hands. Ask her to\\nmake the thread taut and hold its ends in one hand. Now ask her\\nto draw her finger and thumb tightly along the thread (Fig. 10.19).\\nCan you hear a rolling sound like that of a thunder? Now repeat\\nthe activity while another friend stands near both of you. Can he\\nhear any sound?\\nFig. 10.19\\n5. Make two toy telephones. Use them as shown in Fig. 10.20. Make\\nsure that the two strings are taut and touch each other. Let one of\\nyou speak. Can the remaining three persons hear?  See how many\\nmore friends you can engage in this way. Explain your observations.\\nFig. 10.20\\n2024-25\\n'),\n",
       " Document(metadata={'source': 'class8science.pdf', 'page': 14}, page_content='SOUND 137\\n6. Identify the sources of noise pollution in your locality. Discuss with\\nyour parents, friends and neighbours. Suggest how to control noise\\npollution. Prepare a brief report and present it in the class.\\nYou can read more on the related topics on the following websites:\\nl www.physicsclassroom.com/Class/sound/soundtoc.html\\nl health.howstuffworks.com/hearing.htm\\nGolconda fort\\nDid You Know?\\nGolconda fort, near Hyderabad, is one of the most magnificient\\nforts in India. It is famous for many engineering and architectural\\nmarvels. One of the marvels is the water supply system. But,\\nperhaps, more astonishing is a dome near the entrance to the fort.\\nA hand-clap at a particular point under the dome reverberates\\nand can be heard at the highest point of the fort, about a kilometre\\naway. This was devised as a warning system. If a guard saw a\\nsuspicious movement outside the fort, he clapped at the particular\\npoint under the dome, and the army inside the fort was alerted to\\nthe danger of the approaching enemy.\\n2024-25\\n')]"
      ]
     },
     "execution_count": 3,
     "metadata": {},
     "output_type": "execute_result"
    }
   ],
   "source": [
    "data"
   ]
  },
  {
   "cell_type": "code",
   "execution_count": 4,
   "metadata": {},
   "outputs": [],
   "source": [
    "from langchain_text_splitters import RecursiveCharacterTextSplitter\n",
    "\n",
    "text_splitter=RecursiveCharacterTextSplitter(chunk_size=1000)\n",
    "docs=text_splitter.split_documents(data)"
   ]
  },
  {
   "cell_type": "code",
   "execution_count": 6,
   "metadata": {},
   "outputs": [
    {
     "data": {
      "text/plain": [
       "34"
      ]
     },
     "execution_count": 6,
     "metadata": {},
     "output_type": "execute_result"
    }
   ],
   "source": [
    "len(docs)"
   ]
  },
  {
   "cell_type": "code",
   "execution_count": 7,
   "metadata": {},
   "outputs": [],
   "source": [
    "from langchain_chroma import Chroma\n",
    "from langchain_google_genai import GoogleGenerativeAIEmbeddings\n",
    "from dotenv import load_dotenv\n",
    "load_dotenv()\n",
    "\n",
    "embeddings=GoogleGenerativeAIEmbeddings(model=\"models/embedding-001\")"
   ]
  },
  {
   "cell_type": "code",
   "execution_count": 8,
   "metadata": {},
   "outputs": [],
   "source": [
    "vectorstore=Chroma.from_documents(documents=docs,embedding=embeddings)"
   ]
  },
  {
   "cell_type": "code",
   "execution_count": 9,
   "metadata": {},
   "outputs": [],
   "source": [
    "retriever=vectorstore.as_retriever(search_type=\"similarity\",search_kwargs={\"k\":5})\n",
    "\n",
    "retrieved_docs=retriever.invoke(\"sound produced by humans\")"
   ]
  },
  {
   "cell_type": "code",
   "execution_count": 12,
   "metadata": {},
   "outputs": [
    {
     "data": {
      "text/plain": [
       "'SCIENCE126\\n10.2 Sound Produced by\\nHumans\\nSpeak loudly for a while or sing a song,\\nor buzz like a bee. Put your hand on\\nyour throat as shown in Fig. 10.8. Do\\nyou feel any vibrations?\\nIn humans, the sound is produced\\nby the voice box or the larynx. Put your\\nfingers on the throat and find a hard\\nbump that seems to move when you\\nswallow. This part of the body is known\\nas the voice box. It is at the upper end\\nof the windpipe. Two vocal cords,\\n are\\nstretched across the voice box or larynx\\nin such a way that it leaves a narrow\\nslit between them for the passage of air\\n(Fig.10.8).\\nFig. 10.7 : Jaltrang\\nWhen we pluck the string of an\\ninstrument, like the sitar , the sound\\nthat we hear is not only that of the\\nstring. The whole instrument is forced\\nto vibrate, and it is the sound of the\\nvibration of the instrument that we\\nhear. Similarly, when we strike the\\nmembrane of a mridangam, the sound\\nthat we hear is not only that of the\\nmembrane but of the whole body of\\nthe instrument.\\nWhen we speak, does'"
      ]
     },
     "execution_count": 12,
     "metadata": {},
     "output_type": "execute_result"
    }
   ],
   "source": [
    "retrieved_docs[0].page_content"
   ]
  },
  {
   "cell_type": "code",
   "execution_count": 13,
   "metadata": {},
   "outputs": [],
   "source": [
    "from langchain_google_genai import ChatGoogleGenerativeAI"
   ]
  },
  {
   "cell_type": "code",
   "execution_count": 14,
   "metadata": {},
   "outputs": [],
   "source": [
    "llm=ChatGoogleGenerativeAI(model='gemini-1.5-pro',temperature=0.6,max_tokens=500)"
   ]
  },
  {
   "cell_type": "code",
   "execution_count": 15,
   "metadata": {},
   "outputs": [],
   "source": [
    "from langchain.chains import create_retrieval_chain\n",
    "from langchain.chains.combine_documents import create_stuff_documents_chain\n",
    "from langchain_core.prompts import ChatPromptTemplate\n"
   ]
  },
  {
   "cell_type": "code",
   "execution_count": 16,
   "metadata": {},
   "outputs": [],
   "source": [
    "system_prompt=(\n",
    "    \"You are an assistant for question-answering tasks.\"\n",
    "    \"Use the following peices of retrieved context to answer\"\n",
    "    \"the question.If you don't know the answer then say you don't\"\n",
    "    \"know.Use three sentences maximum and keep the answer concise.\"\n",
    "    \"\\n\\n\"\n",
    "    \"{context}\"\n",
    ")\n",
    "\n",
    "prompt=ChatPromptTemplate(\n",
    "    [\n",
    "        (\"system\",system_prompt),\n",
    "        (\"human\",\"{input}\")\n",
    "\n",
    "    ]\n",
    ")"
   ]
  },
  {
   "cell_type": "code",
   "execution_count": 19,
   "metadata": {},
   "outputs": [],
   "source": [
    "question_answer_chain=create_stuff_documents_chain(llm,prompt)\n",
    "rag_chain=create_retrieval_chain(retriever,question_answer_chain)"
   ]
  },
  {
   "cell_type": "code",
   "execution_count": 20,
   "metadata": {},
   "outputs": [
    {
     "name": "stdout",
     "output_type": "stream",
     "text": [
      "The eardrum is a thin, stretched membrane located at the end of the ear canal.  Sound vibrations make the eardrum vibrate. The eardrum then sends these vibrations to the inner ear.\n",
      "\n"
     ]
    }
   ],
   "source": [
    "response=rag_chain.invoke({\"input\":\"What is an eardrum?\"})\n",
    "print(response['answer'])"
   ]
  }
 ],
 "metadata": {
  "kernelspec": {
   "display_name": "venv",
   "language": "python",
   "name": "python3"
  },
  "language_info": {
   "codemirror_mode": {
    "name": "ipython",
    "version": 3
   },
   "file_extension": ".py",
   "mimetype": "text/x-python",
   "name": "python",
   "nbconvert_exporter": "python",
   "pygments_lexer": "ipython3",
   "version": "3.10.0"
  }
 },
 "nbformat": 4,
 "nbformat_minor": 2
}
